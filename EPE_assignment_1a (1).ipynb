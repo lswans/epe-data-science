{
  "nbformat": 4,
  "nbformat_minor": 0,
  "metadata": {
    "colab": {
      "name": "EPE_assignment_1a",
      "provenance": []
    },
    "kernelspec": {
      "name": "python3",
      "display_name": "Python 3"
    },
    "language_info": {
      "name": "python"
    }
  },
  "cells": [
    {
      "cell_type": "code",
      "metadata": {
        "id": "yBop4nPfxLMk"
      },
      "source": [
        "import tensorflow as tf\n",
        "import tensorflow.keras as keras\n",
        "import numpy as np"
      ],
      "execution_count": null,
      "outputs": []
    },
    {
      "cell_type": "code",
      "metadata": {
        "id": "-4SKQnDivvE7"
      },
      "source": [
        "input = [[0,1],[1,0],[0,0],[1,1]]\n",
        "output = [1,1,0,0]\n",
        "\n",
        "batch_size=4\n",
        "lr = 0.1\n",
        "epochs = 5000\n",
        "\n",
        "loss_fun = keras.losses.BinaryCrossentropy(from_logits=False)\n",
        "opt = keras.optimizers.SGD(learning_rate=lr)"
      ],
      "execution_count": null,
      "outputs": []
    },
    {
      "cell_type": "code",
      "metadata": {
        "id": "tMG9M3ztRuDJ"
      },
      "source": [
        "def model():\n",
        "  model = keras.models.Sequential()\n",
        "  model.add(keras.layers.Input(shape=(2,)))\n",
        "  model.add(keras.layers.Dense(2,activation='sigmoid'))\n",
        "  model.add(keras.layers.Dense(1,activation='sigmoid'))\n",
        "\n",
        "  model.compile(loss=loss_fun, optimizer=opt)\n",
        "\n",
        "  return model"
      ],
      "execution_count": null,
      "outputs": []
    },
    {
      "cell_type": "code",
      "metadata": {
        "id": "xyJybjrIRzMm"
      },
      "source": [
        "tf.keras.backend.clear_session()\n",
        "m = model()\n",
        "m.fit(input, output, epochs=epochs,verbose=1)"
      ],
      "execution_count": null,
      "outputs": []
    },
    {
      "cell_type": "code",
      "metadata": {
        "id": "1nJPkfZ0R2fw",
        "colab": {
          "base_uri": "https://localhost:8080/"
        },
        "outputId": "4f549a5b-fafc-4fa6-d7dd-abf0e6dcf535"
      },
      "source": [
        "m.predict(input)"
      ],
      "execution_count": null,
      "outputs": [
        {
          "output_type": "execute_result",
          "data": {
            "text/plain": [
              "array([[0.85172004],\n",
              "       [0.5223441 ],\n",
              "       [0.09364277],\n",
              "       [0.56398976]], dtype=float32)"
            ]
          },
          "metadata": {},
          "execution_count": 16
        }
      ]
    },
    {
      "cell_type": "code",
      "metadata": {
        "colab": {
          "base_uri": "https://localhost:8080/"
        },
        "id": "DBGj_lz4uJa9",
        "outputId": "b9482237-c7e8-499c-9a19-5f67b76d629c"
      },
      "source": [
        "\n"
      ],
      "execution_count": null,
      "outputs": [
        {
          "output_type": "stream",
          "name": "stdout",
          "text": [
            "0\n",
            "+---------------+----------------+\n",
            " | XOR Truth Table | Result |\n",
            " A = False, B = False | A XOR B = 0  | \n",
            " A = False, B = True | A XOR B = 1  | \n",
            " A = True, B = False | A XOR B = 1  | \n",
            " A = True, B = True | A XOR B = 0  | \n"
          ]
        }
      ]
    }
  ]
}